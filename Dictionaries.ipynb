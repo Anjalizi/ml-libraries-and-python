{
 "cells": [
  {
   "cell_type": "code",
   "execution_count": 10,
   "metadata": {},
   "outputs": [
    {
     "name": "stdout",
     "output_type": "stream",
     "text": [
      "{2: 95, 'anju': 69}\n"
     ]
    }
   ],
   "source": [
    "d = {} # creates empty dictionary\n",
    "d[23] = 34.9\n",
    "d[\"anjali\"] = \"mad\"\n",
    "d\n",
    "\n",
    "d1 = { 2:9.0, \"anju\": 69 }\n",
    "d1\n",
    "\n",
    "# If the key does not exist then we are creating a key:value pair\n",
    "# If the key exists then we are updating the value\n",
    "d1[2] = 95\n",
    "print(d1)"
   ]
  },
  {
   "cell_type": "code",
   "execution_count": 15,
   "metadata": {},
   "outputs": [
    {
     "name": "stdout",
     "output_type": "stream",
     "text": [
      "2 : 95\n",
      "anju : 69\n"
     ]
    }
   ],
   "source": [
    "# dictionary keys are immutable i.e can be STRINGS, INT, DOUBLE, TUPLE\n",
    "# keys cannot be LISTS because lists are mutable\n",
    "\n",
    "# fast iteration\n",
    "for i in d1:\n",
    "    print(i, end=\" : \") # prints keys\n",
    "    print(d1[i]) # prints values"
   ]
  },
  {
   "cell_type": "code",
   "execution_count": 16,
   "metadata": {},
   "outputs": [
    {
     "data": {
      "text/plain": [
       "{'anju': 69}"
      ]
     },
     "execution_count": 16,
     "metadata": {},
     "output_type": "execute_result"
    }
   ],
   "source": [
    "# how to delete keys from a dictionary\n",
    "del d1[2]\n",
    "d1"
   ]
  },
  {
   "cell_type": "code",
   "execution_count": 26,
   "metadata": {},
   "outputs": [
    {
     "data": {
      "text/plain": [
       "False"
      ]
     },
     "execution_count": 26,
     "metadata": {},
     "output_type": "execute_result"
    }
   ],
   "source": [
    "# common functions\n",
    "\n",
    "# compare dicts\n",
    "d1 = { 2:\"anjau\", 2.8:3 }\n",
    "d2 = { 2.8:3, 2:\"anjau\" }\n",
    "d1 == d2 # if they are same pair by pair (order of pairs doesn't matter)\n",
    "\n",
    "# length of dict = num of keys in dict\n",
    "len(d1)\n",
    "\n",
    "d1.clear() # makes the dict empty\n",
    "d1\n",
    "\n",
    "d2.keys() # list format mei dikhayega saare keys\n",
    "d2.values() # list format mei saari values dikhayega\n",
    "\n",
    "23 in d2 # check if given element exists as a key or not\n",
    "\n"
   ]
  },
  {
   "cell_type": "code",
   "execution_count": 16,
   "metadata": {},
   "outputs": [
    {
     "data": {
      "text/plain": [
       "20"
      ]
     },
     "execution_count": 16,
     "metadata": {},
     "output_type": "execute_result"
    }
   ],
   "source": [
    "s = \"naajali\"\n",
    "len(s)\n",
    "\n",
    "s.index(\"a\") # first index of element\n",
    "\n",
    "max(10,20)"
   ]
  }
 ],
 "metadata": {
  "kernelspec": {
   "display_name": "Python 3",
   "language": "python",
   "name": "python3"
  },
  "language_info": {
   "codemirror_mode": {
    "name": "ipython",
    "version": 3
   },
   "file_extension": ".py",
   "mimetype": "text/x-python",
   "name": "python",
   "nbconvert_exporter": "python",
   "pygments_lexer": "ipython3",
   "version": "3.6.5"
  }
 },
 "nbformat": 4,
 "nbformat_minor": 2
}
