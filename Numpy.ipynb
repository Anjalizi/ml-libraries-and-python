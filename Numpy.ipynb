{
 "cells": [
  {
   "cell_type": "code",
   "execution_count": 2,
   "metadata": {},
   "outputs": [],
   "source": [
    "# NUMPY ARRAYS HAVE ELEMENTS OF SAME TYPE\n",
    "import numpy as np"
   ]
  },
  {
   "cell_type": "code",
   "execution_count": 4,
   "metadata": {},
   "outputs": [
    {
     "data": {
      "text/plain": [
       "array([1, 2, 3])"
      ]
     },
     "execution_count": 4,
     "metadata": {},
     "output_type": "execute_result"
    }
   ],
   "source": [
    "# how to create numpy arrays\n",
    "l = [1,2,3]\n",
    "np.array(l)"
   ]
  },
  {
   "cell_type": "code",
   "execution_count": 6,
   "metadata": {},
   "outputs": [
    {
     "data": {
      "text/plain": [
       "array(['1', '2', '3'], dtype='<U11')"
      ]
     },
     "execution_count": 6,
     "metadata": {},
     "output_type": "execute_result"
    }
   ],
   "source": [
    "l = [1,2,\"3\"]\n",
    "np.array(l) # converts the whole list into string type elements even if one element is a string"
   ]
  },
  {
   "cell_type": "code",
   "execution_count": 10,
   "metadata": {},
   "outputs": [
    {
     "name": "stdout",
     "output_type": "stream",
     "text": [
      "int32\n"
     ]
    },
    {
     "data": {
      "text/plain": [
       "array([2, 3, 0, 0, 0, 0, 0, 0, 0, 0])"
      ]
     },
     "execution_count": 10,
     "metadata": {},
     "output_type": "execute_result"
    }
   ],
   "source": [
    "# np array of 10 zeros and ones\n",
    "np.zeros(10)\n",
    "a = np.ones(10, int) # pass the dtype you want it to be\n",
    "\n",
    "print(a.dtype) # default is float64\n",
    "a\n",
    "\n",
    "# 2D np array\n",
    "np.zeros((2,3))\n",
    "\n",
    "# 3D np array\n",
    "t = np.zeros((2,3,4))\n",
    "\n",
    "# since i defined a to be an np array of ints, it changed \"2\" into int ka 2\n",
    "a = np.zeros(10, int)\n",
    "a[0] = \"2\"\n",
    "\n",
    "a[1] = 3.4 # 3.4 ko 3 bana diya\n",
    "a\n",
    "\n",
    "# a[2] = \"sanjana\" # but ofc harr chiz ko int nahi bana payega (NOT ALLOWED)"
   ]
  },
  {
   "cell_type": "code",
   "execution_count": 27,
   "metadata": {},
   "outputs": [
    {
     "name": "stdout",
     "output_type": "stream",
     "text": [
      "(10,)\n"
     ]
    },
    {
     "data": {
      "text/plain": [
       "array([[3],\n",
       "       [6]])"
      ]
     },
     "execution_count": 27,
     "metadata": {},
     "output_type": "execute_result"
    }
   ],
   "source": [
    "# accessing elements in np arrays\n",
    "t[0][2]\n",
    "\n",
    "# slicing\n",
    "a[0:4]\n",
    "\n",
    "# SHAPE\n",
    "print(a.shape) # 1D ka shape\n",
    "t.shape\n",
    "\n",
    "c = np.array([[1,2,3],[4,5,6],[7,8,9],[10,11,12]])\n",
    "c[0] # 0th row \n",
    "\n",
    "# [row information, column informartion] # : means all\n",
    "c[:, 0] # 0th column \n",
    "\n",
    "c[0:2, 2:3]"
   ]
  },
  {
   "cell_type": "code",
   "execution_count": 38,
   "metadata": {},
   "outputs": [
    {
     "name": "stdout",
     "output_type": "stream",
     "text": [
      "[3 4 5]\n"
     ]
    },
    {
     "data": {
      "text/plain": [
       "array([ 5, 12, 21])"
      ]
     },
     "execution_count": 38,
     "metadata": {},
     "output_type": "execute_result"
    }
   ],
   "source": [
    "np.arange(10)\n",
    "\n",
    "# numpy operations\n",
    "a = np.array([1,2,3])\n",
    "b = np.array([5,6,7])\n",
    "\n",
    "print(a + 2) # add 2 to each element in np array 'a'\n",
    "b * 3 # multiply 3 to each element in np array 'b'\n",
    "a / 2 # divide by 2 each element in np array\n",
    "a - 3 # subtract 3 from each element in np array \n",
    "\n",
    "a + b # element wise addition provided DIMENSIONS ARE SAME\n",
    "a * b"
   ]
  },
  {
   "cell_type": "code",
   "execution_count": 44,
   "metadata": {},
   "outputs": [
    {
     "data": {
      "text/plain": [
       "6.928203230275509"
      ]
     },
     "execution_count": 44,
     "metadata": {},
     "output_type": "execute_result"
    }
   ],
   "source": [
    "a.mean() # mean of elements \n",
    "a.sum() # sum of elements\n",
    "\n",
    "# applying distance formula on arrays a and b\n",
    "d = ((a - b) ** 2).sum() \n",
    "d # is the squared distance\n",
    "\n",
    "import math as m\n",
    "m.sqrt(d) #gives the distance"
   ]
  },
  {
   "cell_type": "code",
   "execution_count": 48,
   "metadata": {},
   "outputs": [
    {
     "data": {
      "text/plain": [
       "matrix([[1, 2, 3]])"
      ]
     },
     "execution_count": 48,
     "metadata": {},
     "output_type": "execute_result"
    }
   ],
   "source": [
    "a1 = np.array([[1,2],[3,4]])\n",
    "a2 = np.array([[10,20],[30,40]])\n",
    "\n",
    "a1.dot(a2) # multiplication of two matrices\n",
    "\n",
    "# numpy matrices are STRICTLY 2D\n",
    "np.mat([1,2,3])"
   ]
  },
  {
   "cell_type": "code",
   "execution_count": 50,
   "metadata": {},
   "outputs": [
    {
     "data": {
      "text/plain": [
       "140"
      ]
     },
     "execution_count": 50,
     "metadata": {},
     "output_type": "execute_result"
    }
   ],
   "source": [
    "a = np.array([1,2,3])\n",
    "b = np.array([10,20,30])\n",
    "a.dot(b) # element wise multiplication and add i.e. 1*10 + 2*20 + 3*30"
   ]
  },
  {
   "cell_type": "code",
   "execution_count": 53,
   "metadata": {},
   "outputs": [
    {
     "data": {
      "text/plain": [
       "array([1, 5])"
      ]
     },
     "execution_count": 53,
     "metadata": {},
     "output_type": "execute_result"
    }
   ],
   "source": [
    "np.sum([[0, 1], [0, 5]], axis=1) # picks the 1st column"
   ]
  }
 ],
 "metadata": {
  "kernelspec": {
   "display_name": "Python 3",
   "language": "python",
   "name": "python3"
  },
  "language_info": {
   "codemirror_mode": {
    "name": "ipython",
    "version": 3
   },
   "file_extension": ".py",
   "mimetype": "text/x-python",
   "name": "python",
   "nbconvert_exporter": "python",
   "pygments_lexer": "ipython3",
   "version": "3.6.5"
  }
 },
 "nbformat": 4,
 "nbformat_minor": 2
}
