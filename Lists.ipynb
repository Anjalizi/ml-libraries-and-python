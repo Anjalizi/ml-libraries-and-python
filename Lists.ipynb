{
 "cells": [
  {
   "cell_type": "code",
   "execution_count": 1,
   "metadata": {},
   "outputs": [],
   "source": [
    "# creating lists\n",
    "a = [1,2,3]\n",
    "type(a)\n",
    "\n",
    "a1 = list()\n",
    "a1\n",
    "\n",
    "a2 = list([1,2,4])\n",
    "a2\n",
    "\n",
    "a3 = list(a)\n",
    "a3\n",
    "\n",
    "a4 = [ 0 for i in range(10) ]\n",
    "a5 = [ i for i in range(10) ]\n",
    "a5\n",
    "\n",
    "# lists do not necessarily contain the same type of data for all elements\n",
    "a6 = [1, 2.2, True, \"anjali\"]"
   ]
  },
  {
   "cell_type": "code",
   "execution_count": 13,
   "metadata": {},
   "outputs": [
    {
     "name": "stdout",
     "output_type": "stream",
     "text": [
      "1 2 3 "
     ]
    }
   ],
   "source": [
    "# how to access data\n",
    "a[0]\n",
    "a[-1]\n",
    "\n",
    "a6[1:4] # slicing can also be done\n",
    "len(a) # length of list\n",
    "\n",
    "# fast iteration\n",
    "for i in a:\n",
    "    print(i, end=\" \")"
   ]
  },
  {
   "cell_type": "code",
   "execution_count": 27,
   "metadata": {},
   "outputs": [
    {
     "name": "stdout",
     "output_type": "stream",
     "text": [
      " 3 4 5 2 \n",
      "3 3 4 5 \n"
     ]
    },
    {
     "data": {
      "text/plain": [
       "[3, 3, 4, 5]"
      ]
     },
     "execution_count": 27,
     "metadata": {},
     "output_type": "execute_result"
    }
   ],
   "source": [
    "str = \"a,bss,cd,d\"\n",
    "str.split(\",\") # returns an array with elements separated about delimiter\n",
    "\n",
    "s = \" a bc dff gc f\"\n",
    "s.split(\" \") # shuru mei ek empty char\n",
    "\n",
    "str = input().strip() # strip removes leading and trailing spaces\n",
    "list = str.split(\" \")\n",
    "\n",
    "# NOTE : I entered a string and the elements I thus got are strings and not numbers \n",
    "list\n",
    "\n",
    "# to convert elements to integers\n",
    "for i in range(len(list)):\n",
    "    list[i] = int(list[i]) # obvio hai ki strings like \"abc\" can't be converted to integers\n",
    "list\n",
    "\n",
    "# MAKING LIST USING INPUT() IN SINGLE STEP\n",
    "\n",
    "# taken input, strip then split\n",
    "# then for each element put int(x) in l\n",
    "l = [ int(x) for x in input().strip().split(\" \") ]\n",
    "l"
   ]
  },
  {
   "cell_type": "code",
   "execution_count": 4,
   "metadata": {},
   "outputs": [
    {
     "name": "stdout",
     "output_type": "stream",
     "text": [
      "[1, True, 2, 'abc', 4]\n"
     ]
    },
    {
     "data": {
      "text/plain": [
       "[90, 91, 92, 1, True, 2, 'abc', 4]"
      ]
     },
     "execution_count": 4,
     "metadata": {},
     "output_type": "execute_result"
    }
   ],
   "source": [
    "# adding elements\n",
    "a8 = [1,2,\"abc\"]\n",
    "a8.append(4) # adds element at the end\n",
    "a8\n",
    "\n",
    "a8.insert(1, True) # index, element\n",
    "print(a8)\n",
    "\n",
    "l = [90, 91, 92]\n",
    "l.extend(a8) # l ke peeche a8 ke elements added\n",
    "l"
   ]
  },
  {
   "cell_type": "code",
   "execution_count": 5,
   "metadata": {},
   "outputs": [
    {
     "data": {
      "text/plain": [
       "['h', 'e', 'l', 'l', 'o']"
      ]
     },
     "execution_count": 5,
     "metadata": {},
     "output_type": "execute_result"
    }
   ],
   "source": [
    "list(\"hello\")"
   ]
  },
  {
   "cell_type": "code",
   "execution_count": 14,
   "metadata": {},
   "outputs": [
    {
     "name": "stdout",
     "output_type": "stream",
     "text": [
      "[0, 1, 2, 3, 4, 5, 6, 7, 8]\n",
      "[0, 1, 3, 4, 5, 6, 7, 8]\n",
      "[0, 1, 3, 4, 6, 7, 8]\n",
      "[4, 6, 7, 8]\n"
     ]
    }
   ],
   "source": [
    "l = [ i for i in range(10)]\n",
    "# deleting elements\n",
    "l.pop() # returns and removes the last element of the list if used w/o argument\n",
    "print(l)\n",
    "\n",
    "l.pop(2) # element at index 2 removed\n",
    "print(l)\n",
    "\n",
    "l.remove(5) # removes the first occurence of argument from the list\n",
    "print(l)\n",
    "\n",
    "del l[2] # removes element at index 2\n",
    "del l[0:3] # removes elements of given index slice\n",
    "print(l)"
   ]
  },
  {
   "cell_type": "code",
   "execution_count": 1,
   "metadata": {},
   "outputs": [
    {
     "name": "stdout",
     "output_type": "stream",
     "text": [
      "[1, 2, 3, 1, 2, 3, 1, 2, 3]\n"
     ]
    },
    {
     "data": {
      "text/plain": [
       "[1, 2, 3, 1, 2, 3]"
      ]
     },
     "execution_count": 1,
     "metadata": {},
     "output_type": "execute_result"
    }
   ],
   "source": [
    "l = [1,2,3]\n",
    "# l + 2 (NOT ALLOWED)\n",
    "\n",
    "print(l + l + l) # list added to list thrice\n",
    "l # l stays the same\n",
    "\n",
    "# multiplication with an integer\n",
    "l * 2"
   ]
  },
  {
   "cell_type": "code",
   "execution_count": 8,
   "metadata": {},
   "outputs": [
    {
     "name": "stdout",
     "output_type": "stream",
     "text": [
      "[1, 2, 3, 6, 6, 7]\n"
     ]
    },
    {
     "data": {
      "text/plain": [
       "True"
      ]
     },
     "execution_count": 8,
     "metadata": {},
     "output_type": "execute_result"
    }
   ],
   "source": [
    "l = [2,6,3,6,7,1]\n",
    "l.sort()\n",
    "print(l)\n",
    "\n",
    "l.count(1) # pass element; tells ki element kitni baar aa raha\n",
    "\n",
    "l.index(6) # pass element; tells the first index jispe element rakha hua\n",
    "\n",
    "l.reverse() # reverses the list\n",
    "l\n",
    " \n",
    "7 in l # returns boolean and tells if element is present in list or not"
   ]
  },
  {
   "cell_type": "code",
   "execution_count": 16,
   "metadata": {},
   "outputs": [
    {
     "data": {
      "text/plain": [
       "9223372036854775807"
      ]
     },
     "execution_count": 16,
     "metadata": {},
     "output_type": "execute_result"
    }
   ],
   "source": [
    "import sys\n",
    "l = [5,2,89,34]\n",
    "max(l)\n",
    "\n",
    "sys.maxsize"
   ]
  },
  {
   "cell_type": "code",
   "execution_count": 13,
   "metadata": {},
   "outputs": [
    {
     "name": "stdout",
     "output_type": "stream",
     "text": [
      "[4, 2, 5, 6, 6, 12, 17, 1, 5]\n"
     ]
    },
    {
     "data": {
      "text/plain": [
       "[1, 2, 4, 5, 5, 6, 6, 12, 17]"
      ]
     },
     "execution_count": 13,
     "metadata": {},
     "output_type": "execute_result"
    }
   ],
   "source": [
    "# BUBBLE SORT\n",
    "a = [4,2,5,6,6,12,17,1,5]\n",
    "print(a)\n",
    "l = len(a)\n",
    "\n",
    "for i in range(l):\n",
    "    for j in range(l-i-1):\n",
    "        if(a[j]>a[j+1]):\n",
    "            temp = a[j]\n",
    "            a[j] = a[j+1]\n",
    "            a[j+1] = temp\n",
    "            \n",
    "a"
   ]
  },
  {
   "cell_type": "code",
   "execution_count": 17,
   "metadata": {},
   "outputs": [
    {
     "name": "stdout",
     "output_type": "stream",
     "text": [
      "[4, 2, 5, 6, 6, 12, 17, 1, 5]\n"
     ]
    },
    {
     "data": {
      "text/plain": [
       "[1, 2, 4, 5, 5, 6, 6, 12, 17]"
      ]
     },
     "execution_count": 17,
     "metadata": {},
     "output_type": "execute_result"
    }
   ],
   "source": [
    "import sys\n",
    "\n",
    "# SELECTION SORT\n",
    "a = [4,2,5,6,6,12,17,1,5]\n",
    "print(a)\n",
    "l = len(a)\n",
    "\n",
    "for i in range(l-1):\n",
    "    k = i\n",
    "    minval = sys.maxsize\n",
    "    for j in range(i, l):\n",
    "        if(a[j]<minval):\n",
    "            k = j\n",
    "            minval = a[j]\n",
    "    # swap a[k] and a[i]\n",
    "    t = a[k]\n",
    "    a[k] = a[i]\n",
    "    a[i] = t\n",
    "a"
   ]
  },
  {
   "cell_type": "code",
   "execution_count": 20,
   "metadata": {},
   "outputs": [
    {
     "name": "stdout",
     "output_type": "stream",
     "text": [
      "3\n"
     ]
    }
   ],
   "source": [
    "a = [-7,1,5,2,-4,3,0]\n",
    "l = len(a)\n",
    "\n",
    "def equi(a):\n",
    "  lsum = 0\n",
    "  rsum = 0\n",
    "  \n",
    "  for i in range(l):\n",
    "    rsum+=a[i]\n",
    "    \n",
    "  for i in range(l):\n",
    "    rsum = rsum - a[i]\n",
    "    if(lsum==rsum):\n",
    "      return i\n",
    "    \n",
    "    lsum = lsum + a[i]\n",
    "  return -1\n",
    "\n",
    "\n",
    "ans = equi(a)\n",
    "print(ans)"
   ]
  },
  {
   "cell_type": "code",
   "execution_count": 22,
   "metadata": {},
   "outputs": [
    {
     "name": "stdout",
     "output_type": "stream",
     "text": [
      "5 3 0 "
     ]
    }
   ],
   "source": [
    "a = [-7,1,5,2,-4,3,0]\n",
    "l = len(a)\n",
    "\n",
    "for i in range(l):\n",
    "  flag = True\n",
    "  for j in range(i+1, l):\n",
    "    if(a[i]<a[j]):\n",
    "      flag = False\n",
    "      break\n",
    "      \n",
    "  if(flag):\n",
    "    print(a[i], end=\" \")"
   ]
  }
 ],
 "metadata": {
  "kernelspec": {
   "display_name": "Python 3",
   "language": "python",
   "name": "python3"
  },
  "language_info": {
   "codemirror_mode": {
    "name": "ipython",
    "version": 3
   },
   "file_extension": ".py",
   "mimetype": "text/x-python",
   "name": "python",
   "nbconvert_exporter": "python",
   "pygments_lexer": "ipython3",
   "version": "3.6.5"
  }
 },
 "nbformat": 4,
 "nbformat_minor": 2
}
