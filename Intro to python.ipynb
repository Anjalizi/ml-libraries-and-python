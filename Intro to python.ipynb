{
 "cells": [
  {
   "cell_type": "markdown",
   "metadata": {},
   "source": [
    "## Intro to Jupyter\n",
    "\n",
    "From the dropdown above, CODE or MARKDOWN can be chosen to work with\n",
    "\n",
    "### order of execution of cells matters when using values of one cell in another"
   ]
  },
  {
   "cell_type": "code",
   "execution_count": 29,
   "metadata": {},
   "outputs": [
    {
     "name": "stdout",
     "output_type": "stream",
     "text": [
      "10 19\n",
      "12\n"
     ]
    }
   ],
   "source": [
    "a = 10\n",
    "print(a, end=\" \")\n",
    "print(19)\n",
    "print(12)"
   ]
  },
  {
   "cell_type": "code",
   "execution_count": 20,
   "metadata": {},
   "outputs": [
    {
     "name": "stdout",
     "output_type": "stream",
     "text": [
      "10\n"
     ]
    },
    {
     "data": {
      "text/plain": [
       "10"
      ]
     },
     "execution_count": 20,
     "metadata": {},
     "output_type": "execute_result"
    }
   ],
   "source": [
    "# output is the last variable \n",
    "b = \"anjali\"\n",
    "print(a)\n",
    "a"
   ]
  },
  {
   "cell_type": "code",
   "execution_count": 26,
   "metadata": {},
   "outputs": [
    {
     "name": "stdout",
     "output_type": "stream",
     "text": [
      "<class 'int'>\n",
      "<class 'float'>\n",
      "<class 'complex'>\n",
      "<class 'complex'>\n"
     ]
    }
   ],
   "source": [
    "# variables\n",
    "a = 10\n",
    "print(type(a))\n",
    "a = 12.5\n",
    "print(type(a))\n",
    "b = 8 + 9j\n",
    "print(type(b))\n",
    "\n",
    "a = 2 + 3j\n",
    "print(type(a))"
   ]
  },
  {
   "cell_type": "code",
   "execution_count": 33,
   "metadata": {},
   "outputs": [
    {
     "name": "stdout",
     "output_type": "stream",
     "text": [
      "12\n",
      "20\n",
      "32\n",
      "-8\n",
      "240\n",
      "0.6\n",
      "0\n",
      "144\n",
      "12\n"
     ]
    },
    {
     "data": {
      "text/plain": [
       "3"
      ]
     },
     "execution_count": 33,
     "metadata": {},
     "output_type": "execute_result"
    }
   ],
   "source": [
    "c = a +b\n",
    "a = 12\n",
    "b = 20\n",
    "print(a)\n",
    "print(b)\n",
    "print(c)\n",
    "print(a-b)\n",
    "print(a*b)\n",
    "print(a/b) # double answer\n",
    "print(a//b) #floor answer\n",
    "print( a**2) # a ki power 2\n",
    "print(a%b)\n",
    "a,b = 2,3\n",
    "b"
   ]
  },
  {
   "cell_type": "code",
   "execution_count": 44,
   "metadata": {},
   "outputs": [
    {
     "name": "stdout",
     "output_type": "stream",
     "text": [
      "this is a string\n",
      "16\n",
      "<class 'str'>\n",
      "t\n",
      "monu meri motithis is also a string\n"
     ]
    },
    {
     "data": {
      "text/plain": [
       "str"
      ]
     },
     "execution_count": 44,
     "metadata": {},
     "output_type": "execute_result"
    }
   ],
   "source": [
    "# strings\n",
    "st = \"this is a string\"\n",
    "gtr = 'this is also a string'\n",
    "print(st)\n",
    "\n",
    "print(len(st))\n",
    "print(type(st))\n",
    "print(st[0])\n",
    "\n",
    "# strings are immutable\n",
    "# st[2] = 'c' INVALID\n",
    "st = \"monu meri moti\" #valid\n",
    "v = st + gtr\n",
    "print(v)\n",
    "\n",
    "# there exist no characters in python since there is no demarcation bw '' and \"\"\n",
    "type('2')\n",
    "# v = st + 2 STRING AND INT CANT BE ADDED, STR AND STR WHEN ADDED GET CONCATENATED"
   ]
  },
  {
   "cell_type": "code",
   "execution_count": 50,
   "metadata": {},
   "outputs": [
    {
     "name": "stdout",
     "output_type": "stream",
     "text": [
      "  ABC \n",
      "  abc \n",
      "Abc\n",
      "True\n"
     ]
    }
   ],
   "source": [
    "# few functions on strings\n",
    "a = \"  Abc \"\n",
    "print(a.upper()) # doesn't change a itself\n",
    "print(a.lower())\n",
    "print(a.strip()) # removes all leading and tralining white spaces\n",
    "\n",
    "a = a.strip()\n",
    "print(a.isalpha()) #true if a contains only alphabets"
   ]
  },
  {
   "cell_type": "code",
   "execution_count": 57,
   "metadata": {},
   "outputs": [
    {
     "name": "stdout",
     "output_type": "stream",
     "text": [
      "56\n",
      "56\n",
      "<class 'str'>\n",
      "45\n",
      "45\n",
      "<class 'int'>\n",
      "(1, 45, 67)\n"
     ]
    }
   ],
   "source": [
    "# user input\n",
    "a = input() # input function takes string by default\n",
    "print(a)\n",
    "print(type(a))\n",
    "\n",
    "a = int(input()) # taking integer as input\n",
    "print(a)\n",
    "print(type(a))"
   ]
  },
  {
   "cell_type": "code",
   "execution_count": 60,
   "metadata": {},
   "outputs": [],
   "source": [
    "abc = 1,34,56 #valid\n",
    "# a b c = 10 20 30 INVALID\n",
    "A_B_C = 10,20,30\n",
    "a,b,c = 10,20,30"
   ]
  },
  {
   "cell_type": "code",
   "execution_count": 6,
   "metadata": {},
   "outputs": [
    {
     "name": "stdout",
     "output_type": "stream",
     "text": [
      "a\n",
      "g\n",
      "abcdefg\n",
      "cdef\n",
      "abcde\n",
      "defg\n",
      "def\n"
     ]
    }
   ],
   "source": [
    "# string indexing and slicing\n",
    "s = \"abcdefg\"\n",
    "\n",
    "# start is included, end is not\n",
    "print(s[0])\n",
    "print(s[-1])\n",
    "print(s[:]) #full\n",
    "print(s[-5:-1])\n",
    "print(s[:5])\n",
    "print(s[3:])\n",
    "print(s[3:6])"
   ]
  },
  {
   "cell_type": "code",
   "execution_count": 13,
   "metadata": {},
   "outputs": [
    {
     "name": "stdout",
     "output_type": "stream",
     "text": [
      "4.56\n",
      "<class 'tuple'>\n"
     ]
    },
    {
     "data": {
      "text/plain": [
       "(1, 2)"
      ]
     },
     "execution_count": 13,
     "metadata": {},
     "output_type": "execute_result"
    }
   ],
   "source": [
    "# tuple\n",
    "t = (1,2,3)\n",
    "t2 = (1, \"anj\", 4.56)\n",
    "print(t2[2])\n",
    "print(type(t2))\n",
    "\n",
    "# tuples are immutable\n",
    "# t[0] = 10 INVALID\n",
    "\n",
    "# slicing works on tuples just like strings\n",
    "t[0:2]"
   ]
  },
  {
   "cell_type": "code",
   "execution_count": 17,
   "metadata": {},
   "outputs": [
    {
     "name": "stdout",
     "output_type": "stream",
     "text": [
      "(1, 2, 'd', 5)\n",
      "(1, 2, 1, 2)\n"
     ]
    },
    {
     "data": {
      "text/plain": [
       "True"
      ]
     },
     "execution_count": 17,
     "metadata": {},
     "output_type": "execute_result"
    }
   ],
   "source": [
    "# operations on tuples\n",
    "t = (1,2)\n",
    "k = (\"d\", 5)\n",
    "print(t+k)\n",
    "print(t*2)\n",
    "\n",
    "# t * k INVALID\n",
    "print(1 in t) # if t contains 1"
   ]
  },
  {
   "cell_type": "code",
   "execution_count": 19,
   "metadata": {},
   "outputs": [
    {
     "name": "stdout",
     "output_type": "stream",
     "text": [
      "6\n",
      "1 2 3 4 5 6 "
     ]
    }
   ],
   "source": [
    "# while loop\n",
    "n = int(input())\n",
    "i =1\n",
    "while(i<=n):\n",
    "    print(i, end=\" \")\n",
    "    i = i+1"
   ]
  },
  {
   "cell_type": "code",
   "execution_count": 21,
   "metadata": {},
   "outputs": [
    {
     "name": "stdout",
     "output_type": "stream",
     "text": [
      "7\n",
      "1 2 3 4 5 6 7 "
     ]
    }
   ],
   "source": [
    "# for loop\n",
    "n = int(input())\n",
    "for i in range(1, n+1):\n",
    "    print(i, end=\" \")"
   ]
  }
 ],
 "metadata": {
  "kernelspec": {
   "display_name": "Python 3",
   "language": "python",
   "name": "python3"
  },
  "language_info": {
   "codemirror_mode": {
    "name": "ipython",
    "version": 3
   },
   "file_extension": ".py",
   "mimetype": "text/x-python",
   "name": "python",
   "nbconvert_exporter": "python",
   "pygments_lexer": "ipython3",
   "version": "3.6.5"
  }
 },
 "nbformat": 4,
 "nbformat_minor": 2
}
