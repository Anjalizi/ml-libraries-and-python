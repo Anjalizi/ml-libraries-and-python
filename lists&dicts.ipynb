{
 "cells": [
  {
   "cell_type": "code",
   "execution_count": 1,
   "metadata": {},
   "outputs": [],
   "source": [
    "# creating lists\n",
    "a = [1,2,3]\n",
    "type(a)\n",
    "\n",
    "a1 = list()\n",
    "a1\n",
    "\n",
    "a2 = list([1,2,4])\n",
    "a2\n",
    "\n",
    "a3 = list(a)\n",
    "a3\n",
    "\n",
    "a4 = [ 0 for i in range(10) ]\n",
    "a5 = [ i for i in range(10) ]\n",
    "a5\n",
    "\n",
    "# lists do not necessarily contain the same type of data for all elements\n",
    "a6 = [1, 2.2, True, \"anjali\"]"
   ]
  },
  {
   "cell_type": "code",
   "execution_count": 13,
   "metadata": {},
   "outputs": [
    {
     "name": "stdout",
     "output_type": "stream",
     "text": [
      "1 2 3 "
     ]
    }
   ],
   "source": [
    "# how to access data\n",
    "a[0]\n",
    "a[-1]\n",
    "\n",
    "a6[1:4] # slicing can also be done\n",
    "len(a) # length of list\n",
    "\n",
    "# fast iteration\n",
    "for i in a:\n",
    "    print(i, end=\" \")"
   ]
  },
  {
   "cell_type": "code",
   "execution_count": 27,
   "metadata": {},
   "outputs": [
    {
     "name": "stdout",
     "output_type": "stream",
     "text": [
      " 3 4 5 2 \n",
      "3 3 4 5 \n"
     ]
    },
    {
     "data": {
      "text/plain": [
       "[3, 3, 4, 5]"
      ]
     },
     "execution_count": 27,
     "metadata": {},
     "output_type": "execute_result"
    }
   ],
   "source": [
    "str = \"a,bss,cd,d\"\n",
    "str.split(\",\") # returns an array with elements separated about delimiter\n",
    "\n",
    "s = \" a bc dff gc f\"\n",
    "s.split(\" \") # shuru mei ek empty char\n",
    "\n",
    "str = input().strip() # strip removes leading and trailing spaces\n",
    "list = str.split(\" \")\n",
    "\n",
    "# NOTE : I entered a string and the elements I thus got are strings and not numbers \n",
    "list\n",
    "\n",
    "# to convert elements to integers\n",
    "for i in range(len(list)):\n",
    "    list[i] = int(list[i]) # obvio hai ki strings like \"abc\" can't be converted to integers\n",
    "list\n",
    "\n",
    "# MAKING LIST USING INPUT() IN SINGLE STEP\n",
    "\n",
    "# taken input, strip then split\n",
    "# then for each element put int(x) in l\n",
    "l = [ int(x) for x in input().strip().split(\" \") ]\n",
    "l"
   ]
  },
  {
   "cell_type": "code",
   "execution_count": 4,
   "metadata": {},
   "outputs": [
    {
     "name": "stdout",
     "output_type": "stream",
     "text": [
      "[1, True, 2, 'abc', 4]\n"
     ]
    },
    {
     "data": {
      "text/plain": [
       "[90, 91, 92, 1, True, 2, 'abc', 4]"
      ]
     },
     "execution_count": 4,
     "metadata": {},
     "output_type": "execute_result"
    }
   ],
   "source": [
    "# adding elements\n",
    "a8 = [1,2,\"abc\"]\n",
    "a8.append(4) # adds element at the end\n",
    "a8\n",
    "\n",
    "a8.insert(1, True) # index, element\n",
    "print(a8)\n",
    "\n",
    "l = [90, 91, 92]\n",
    "l.extend(a8) # l ke peeche a8 ke elements added\n",
    "l"
   ]
  },
  {
   "cell_type": "code",
   "execution_count": 5,
   "metadata": {},
   "outputs": [
    {
     "data": {
      "text/plain": [
       "['h', 'e', 'l', 'l', 'o']"
      ]
     },
     "execution_count": 5,
     "metadata": {},
     "output_type": "execute_result"
    }
   ],
   "source": [
    "list(\"hello\")"
   ]
  },
  {
   "cell_type": "code",
   "execution_count": 14,
   "metadata": {},
   "outputs": [
    {
     "name": "stdout",
     "output_type": "stream",
     "text": [
      "[0, 1, 2, 3, 4, 5, 6, 7, 8]\n",
      "[0, 1, 3, 4, 5, 6, 7, 8]\n",
      "[0, 1, 3, 4, 6, 7, 8]\n",
      "[4, 6, 7, 8]\n"
     ]
    }
   ],
   "source": [
    "l = [ i for i in range(10)]\n",
    "# deleting elements\n",
    "l.pop() # returns and removes the last element of the list if used w/o argument\n",
    "print(l)\n",
    "\n",
    "l.pop(2) # element at index 2 removed\n",
    "print(l)\n",
    "\n",
    "l.remove(5) # removes the first occurence of argument from the list\n",
    "print(l)\n",
    "\n",
    "del l[2] # removes element at index 2\n",
    "del l[0:3] # removes elements of given index slice\n",
    "print(l)"
   ]
  },
  {
   "cell_type": "code",
   "execution_count": 1,
   "metadata": {},
   "outputs": [
    {
     "name": "stdout",
     "output_type": "stream",
     "text": [
      "[1, 2, 3, 1, 2, 3, 1, 2, 3]\n"
     ]
    },
    {
     "data": {
      "text/plain": [
       "[1, 2, 3, 1, 2, 3]"
      ]
     },
     "execution_count": 1,
     "metadata": {},
     "output_type": "execute_result"
    }
   ],
   "source": [
    "l = [1,2,3]\n",
    "# l + 2 (NOT ALLOWED)\n",
    "\n",
    "print(l + l + l) # list added to list thrice\n",
    "l # l stays the same\n",
    "\n",
    "# multiplication with an integer\n",
    "l * 2"
   ]
  }
 ],
 "metadata": {
  "kernelspec": {
   "display_name": "Python 3",
   "language": "python",
   "name": "python3"
  },
  "language_info": {
   "codemirror_mode": {
    "name": "ipython",
    "version": 3
   },
   "file_extension": ".py",
   "mimetype": "text/x-python",
   "name": "python",
   "nbconvert_exporter": "python",
   "pygments_lexer": "ipython3",
   "version": "3.6.5"
  }
 },
 "nbformat": 4,
 "nbformat_minor": 2
}
