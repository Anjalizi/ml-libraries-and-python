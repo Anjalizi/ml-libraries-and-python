{
 "cells": [
  {
   "cell_type": "code",
   "execution_count": 3,
   "metadata": {},
   "outputs": [
    {
     "name": "stdout",
     "output_type": "stream",
     "text": [
      "0 1 2 3 4 5 6 \n",
      "4,6,8,"
     ]
    }
   ],
   "source": [
    "# for loop\n",
    "# start, end, step: by default start=0, step=1\n",
    "for i in range(7):\n",
    "    print(i, end=\" \")\n",
    "\n",
    "print()\n",
    "for i in range(4,10,2):\n",
    "    print(i, end=\",\")"
   ]
  },
  {
   "cell_type": "code",
   "execution_count": 5,
   "metadata": {},
   "outputs": [
    {
     "name": "stdout",
     "output_type": "stream",
     "text": [
      "41\n",
      "PRIME\n"
     ]
    }
   ],
   "source": [
    "# is prime\n",
    "n = int(input())\n",
    "prime = True\n",
    "for i in range(2, n):\n",
    "    if(n%i==0):\n",
    "        prime = False\n",
    "        break\n",
    "\n",
    "if prime:\n",
    "    print(\"PRIME\")\n",
    "else:\n",
    "    print(\"not prime\")"
   ]
  },
  {
   "cell_type": "code",
   "execution_count": 8,
   "metadata": {},
   "outputs": [
    {
     "name": "stdout",
     "output_type": "stream",
     "text": [
      "a n c d \n",
      "1 2 5 3.4 "
     ]
    }
   ],
   "source": [
    "# fast iteration\n",
    "s = \"ancd\"\n",
    "for c in s:\n",
    "    print(c, end=\" \")\n",
    "\n",
    "print()\n",
    "t = (1,2,5,3.4)\n",
    "for v in t:\n",
    "    print(v, end=\" \")"
   ]
  }
 ],
 "metadata": {
  "kernelspec": {
   "display_name": "Python 3",
   "language": "python",
   "name": "python3"
  },
  "language_info": {
   "codemirror_mode": {
    "name": "ipython",
    "version": 3
   },
   "file_extension": ".py",
   "mimetype": "text/x-python",
   "name": "python",
   "nbconvert_exporter": "python",
   "pygments_lexer": "ipython3",
   "version": "3.6.5"
  }
 },
 "nbformat": 4,
 "nbformat_minor": 2
}
